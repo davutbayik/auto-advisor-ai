{
 "cells": [
  {
   "cell_type": "code",
   "execution_count": null,
   "id": "578b8dc7",
   "metadata": {},
   "outputs": [],
   "source": []
  },
  {
   "cell_type": "code",
   "execution_count": 1,
   "id": "288cf7b1",
   "metadata": {},
   "outputs": [
    {
     "name": "stdout",
     "output_type": "stream",
     "text": [
      "a mobile application that connects users with local farmers markets and provides real-time updates on available produce and special deals.\n"
     ]
    }
   ],
   "source": [
    "from langchain.chains import LLMChain\n",
    "from langchain.prompts import PromptTemplate\n",
    "from langchain_openai import ChatOpenAI\n",
    "from langchain_core.output_parsers import StrOutputParser\n",
    "from dotenv import load_dotenv\n",
    "\n",
    "load_dotenv()\n",
    "\n",
    "# --- LLM Configuration ---\n",
    "llm = ChatOpenAI(\n",
    "    model=\"gpt-3.5-turbo\", \n",
    "    temperature=0.7, \n",
    "    max_tokens=500,\n",
    ")\n",
    "\n",
    "user_input = \"mobile application\"\n",
    "\n",
    "prompt_template = \"Rephrase the following into a viable startup idea. If it's totally irrelevant, return 'INVALID'.\\n\\nInput: {idea}\"\n",
    "\n",
    "prompt = PromptTemplate(\n",
    "    input_variables=['idea'], template=prompt_template\n",
    ")\n",
    "\n",
    "chain = prompt | llm | StrOutputParser()\n",
    "response = chain.invoke(user_input).strip().lower()\n",
    "\n",
    "print(response)"
   ]
  },
  {
   "cell_type": "code",
   "execution_count": 17,
   "id": "68689ea0",
   "metadata": {},
   "outputs": [
    {
     "data": {
      "text/plain": [
       "'no'"
      ]
     },
     "execution_count": 17,
     "metadata": {},
     "output_type": "execute_result"
    }
   ],
   "source": [
    "response"
   ]
  },
  {
   "cell_type": "code",
   "execution_count": 4,
   "id": "4d6a10c4",
   "metadata": {},
   "outputs": [
    {
     "name": "stdout",
     "output_type": "stream",
     "text": [
      "env: OPENAI_API_KEY=\"\"\n"
     ]
    }
   ],
   "source": [
    "%env OPENAI_API_KEY=\"\""
   ]
  },
  {
   "cell_type": "code",
   "execution_count": 16,
   "id": "d829d8b7",
   "metadata": {},
   "outputs": [
    {
     "name": "stderr",
     "output_type": "stream",
     "text": [
      "ERROR:root:LiteLLM call failed: litellm.AuthenticationError: AuthenticationError: OpenAIException - Error code: 401 - {'error': {'message': 'Incorrect API key provided: \"sk-XXXX**XXX\". You can find your API key at https://platform.openai.com/account/api-keys.', 'type': 'invalid_request_error', 'param': None, 'code': 'invalid_api_key'}}\n"
     ]
    },
    {
     "name": "stdout",
     "output_type": "stream",
     "text": [
      "\n",
      "\n",
      "LiteLLM.Info: If you need to debug this error, use `litellm._turn_on_debug()'.\n",
      "\n",
      "\u001b[91m Error during LLM call: litellm.AuthenticationError: AuthenticationError: OpenAIException - Error code: 401 - {'error': {'message': 'Incorrect API key provided: \"sk-XXXX**XXX\". You can find your API key at https://platform.openai.com/account/api-keys.', 'type': 'invalid_request_error', 'param': None, 'code': 'invalid_api_key'}}\u001b[00m\n",
      "\u001b[91m An unknown error occurred. Please check the details below.\u001b[00m\n",
      "\u001b[91m Error details: litellm.AuthenticationError: AuthenticationError: OpenAIException - Error code: 401 - {'error': {'message': 'Incorrect API key provided: \"sk-XXXX**XXX\". You can find your API key at https://platform.openai.com/account/api-keys.', 'type': 'invalid_request_error', 'param': None, 'code': 'invalid_api_key'}}\u001b[00m\n",
      "401\n"
     ]
    }
   ],
   "source": [
    "from langchain_openai import ChatOpenAI\n",
    "from build_agents import run_auto_advisor\n",
    "\n",
    "# --- LLM Configuration ---\n",
    "llm = ChatOpenAI(model=\"gpt-4-turbo\", temperature=0.7)\n",
    "\n",
    "user_idea = \"ERW Pipe production facility in Turkey\"\n",
    "\n",
    "try:\n",
    "\tfinal_report = run_auto_advisor(user_idea, llm)\n",
    "except Exception as e:\n",
    "    print(e.status_code)"
   ]
  },
  {
   "cell_type": "code",
   "execution_count": 19,
   "id": "981ab2fa",
   "metadata": {},
   "outputs": [
    {
     "name": "stdout",
     "output_type": "stream",
     "text": [
      "doru\n"
     ]
    }
   ],
   "source": [
    "s = \"abdsa jdsaıjdnksad saf asn sasa\"\n",
    "\n",
    "if s.strip():\n",
    "    print(\"doru\")"
   ]
  },
  {
   "cell_type": "code",
   "execution_count": null,
   "id": "095cf8e9",
   "metadata": {},
   "outputs": [
    {
     "data": {
      "text/plain": [
       "\"**Executive Summary:**\\nThe Turkish ERW (Electric Resistance Welded) steel pipe industry is strategically positioned to leverage Turkey's geographic location bridging Europe, Asia, and the Middle East. This facilitates access to key markets and raw materials, supported by a growing infrastructure and potential government incentives. However, the industry faces significant challenges such as high competition, economic instability, and regulatory hurdles. The global demand for steel continues to grow, particularly in construction and infrastructure, presenting substantial opportunities for Turkish ERW pipe manufacturers to expand their market share and improve operational efficiencies through technological advancements and sustainable practices.\\n\\n**SWOT Analysis:**\\n1. **Strengths:**\\n   - Strategic geographic location for distribution.\\n   - Increasing infrastructure projects driving domestic demand.\\n   - Access to key raw materials, reducing costs.\\n   - Potential government support for the manufacturing sector.\\n\\n2. **Weaknesses:**\\n   - Intense competition from both local and international players.\\n   - Economic instability impacting investment and operational costs.\\n   - High dependency on imported energy, potentially increasing production costs.\\n   - Regulatory challenges that could impede manufacturing and exports.\\n\\n3. **Opportunities:**\\n   - High export potential to European, Asian, and Middle Eastern markets.\\n   - Rising demand in the construction sector.\\n   - Opportunity to integrate advanced manufacturing technologies.\\n   - Growing global focus on sustainability offering avenues for innovative production processes.\\n\\n4. **Threats:**\\n   - Volatility in global steel prices and economic conditions.\\n   - Regional geopolitical tensions and domestic political instability.\\n   - Potential trade barriers affecting exports.\\n   - Currency fluctuations impacting cost and pricing structures.\\n\\n**Market Insight:**\\nThe Turkish ERW steel pipe industry is part of a highly competitive market environment, featuring numerous local and international players. The industry benefits from Turkey's robust metal manufacturing base and strategic export capabilities. However, fluctuations in global steel prices and the recent economic downturns have pressured the industry, emphasizing the need for cost-efficiency and market diversification.\\n\\n**Strategic Recommendations:**\\n1. **Leverage Technological Advancements:** Invest in new technologies to enhance production efficiency and reduce costs. This includes automation and the adoption of green technologies to meet increasing global demands for sustainable production.\\n2. **Expand Market Presence:** Focus on expanding export capabilities by exploiting Turkey’s strategic location. Building partnerships in key markets such as Europe and the Middle East can help mitigate the impact of domestic challenges.\\n3. **Diversify Product Range:** Develop higher-margin steel products and tailor offerings to meet the specific needs of industries such as automotive and construction, which are significant consumers of ERW pipes.\\n4. **Strengthen Supply Chain Resilience:** Improve raw material sourcing and logistics to handle market volatility better. Establishing long-term contracts with raw material suppliers could stabilize prices and supply.\\n5. **Enhance Regulatory and Political Strategy:** Engage more actively with governmental bodies to anticipate and influence policy changes. Establish a task force to handle regulatory compliance and to lobby for favorable trade agreements and tariffs.\\n\\nThis strategic approach will enable Turkish ERW steel pipe manufacturers not only to capitalize on existing opportunities but also to navigate and mitigate the industry-specific challenges effectively.\""
      ]
     },
     "execution_count": 6,
     "metadata": {},
     "output_type": "execute_result"
    }
   ],
   "source": [
    "final_report.raw"
   ]
  },
  {
   "cell_type": "code",
   "execution_count": 8,
   "id": "094863f6",
   "metadata": {},
   "outputs": [
    {
     "name": "stderr",
     "output_type": "stream",
     "text": [
      "2025-04-24 15:57:24.479 WARNING streamlit.runtime.scriptrunner_utils.script_run_context: Thread 'MainThread': missing ScriptRunContext! This warning can be ignored when running in bare mode.\n",
      "2025-04-24 15:57:24.481 WARNING streamlit.runtime.scriptrunner_utils.script_run_context: Thread 'MainThread': missing ScriptRunContext! This warning can be ignored when running in bare mode.\n",
      "2025-04-24 15:57:25.333 \"deprecation.showPyplotGlobalUse\" is not a valid config option. If you previously had this config option set, it may have been removed.\n",
      "2025-04-24 15:57:25.336 \n",
      "  \u001b[33m\u001b[1mWarning:\u001b[0m to view this Streamlit app on a browser, run it with the following\n",
      "  command:\n",
      "\n",
      "    streamlit run c:\\Users\\davutbayik\\Desktop\\BAYIK_GRUP\\GitHub Projects\\LLM\\.venv\\Lib\\site-packages\\ipykernel_launcher.py [ARGUMENTS]\n",
      "2025-04-24 15:57:25.337 Thread 'MainThread': missing ScriptRunContext! This warning can be ignored when running in bare mode.\n",
      "2025-04-24 15:57:25.338 Thread 'MainThread': missing ScriptRunContext! This warning can be ignored when running in bare mode.\n",
      "2025-04-24 15:57:25.339 Thread 'MainThread': missing ScriptRunContext! This warning can be ignored when running in bare mode.\n",
      "2025-04-24 15:57:25.339 Thread 'MainThread': missing ScriptRunContext! This warning can be ignored when running in bare mode.\n",
      "2025-04-24 15:57:25.340 Thread 'MainThread': missing ScriptRunContext! This warning can be ignored when running in bare mode.\n",
      "2025-04-24 15:57:25.340 Session state does not function when running a script without `streamlit run`\n",
      "2025-04-24 15:57:25.343 Thread 'MainThread': missing ScriptRunContext! This warning can be ignored when running in bare mode.\n",
      "2025-04-24 15:57:25.344 Thread 'MainThread': missing ScriptRunContext! This warning can be ignored when running in bare mode.\n"
     ]
    }
   ],
   "source": [
    "import os\n",
    "import streamlit as st\n",
    "from build_agents import run_auto_advisor\n",
    "\n",
    "# --- Streamlit UI ---\n",
    "st.set_page_config(page_title=\"AutoAdvisor AI\", page_icon=\"🤖\")\n",
    "st.title(\"🤖 AutoAdvisor: AI-powered Business Strategy Assistant\")\n",
    "\n",
    "\n",
    "# --- Get LLM API Key (OpenAI) ---\n",
    "openai_key = st.text_input(\"🔑 Enter your OpenAI API key\", type=\"password\")\n",
    "\n",
    "if openai_key:\n",
    "    os.environ[\"OPENAI_API_KEY\"] = openai_key\n",
    "\n",
    "    # --- Business Idea Input ---\n",
    "    user_idea = st.text_area(\"💡 Enter your business idea\", placeholder=\"e.g. AI-powered wellness coach for remote workers\")\n",
    "\n",
    "    if user_idea.strip():\n",
    "        # --- Run Crew ---\n",
    "        if st.button(\"🚀 Generate Strategy\"):\n",
    "            with st.spinner(\"🤖 Running AutoAdvisor AI agents to generate your business report ...\"):\n",
    "                \n",
    "                final_report = run_auto_advisor(user_idea)\n",
    "                \n",
    "            st.success(\"✅ Analysis complete!\")\n",
    "            st.markdown(\"### 📄 Final Business Strategy Report\")\n",
    "\n",
    "            with st.chat_message(\"assistant\"):\n",
    "                st.markdown(final_report)\n",
    "    else:\n",
    "        st.warning(\"Please enter a business idea to proceed.\")"
   ]
  },
  {
   "cell_type": "code",
   "execution_count": null,
   "id": "30c50235",
   "metadata": {},
   "outputs": [],
   "source": []
  },
  {
   "cell_type": "code",
   "execution_count": 9,
   "id": "c339c637",
   "metadata": {},
   "outputs": [],
   "source": [
    "user_idea = \"ERW Pipe production facility in Turkey\"\n",
    "final_report = run_auto_advisor(user_idea)"
   ]
  },
  {
   "cell_type": "code",
   "execution_count": 11,
   "id": "a5ef73d5",
   "metadata": {},
   "outputs": [],
   "source": [
    "from io import StringIO\n",
    "report_stream = StringIO(final_report.raw)"
   ]
  },
  {
   "cell_type": "code",
   "execution_count": 28,
   "id": "d9f92272",
   "metadata": {},
   "outputs": [],
   "source": [
    "from markdown_pdf import MarkdownPdf, Section\n",
    "\n",
    "pdf = MarkdownPdf()\n",
    "pdf.meta[\"title\"] = 'AI-Powered Business Report'\n",
    "pdf.add_section(Section(final_report.raw, toc=True))\n",
    "pdf.save('output.pdf')"
   ]
  },
  {
   "cell_type": "code",
   "execution_count": 30,
   "id": "3b1cc27b",
   "metadata": {},
   "outputs": [
    {
     "data": {
      "text/plain": [
       "2"
      ]
     },
     "execution_count": 30,
     "metadata": {},
     "output_type": "execute_result"
    }
   ],
   "source": [
    "pdf.page_num"
   ]
  },
  {
   "cell_type": "code",
   "execution_count": 23,
   "id": "67f2a4fc",
   "metadata": {},
   "outputs": [
    {
     "data": {
      "text/plain": [
       "'final_report.pdf'"
      ]
     },
     "execution_count": 23,
     "metadata": {},
     "output_type": "execute_result"
    }
   ],
   "source": [
    "from fpdf import FPDF\n",
    "\n",
    "def export_to_pdf(content: str, filename=\"final_report.pdf\"):\n",
    "    pdf = FPDF()\n",
    "    pdf.add_page()\n",
    "    pdf.add_font('arial_new', '', 'arial-unicode-ms.ttf', uni=True)\n",
    "    pdf.set_auto_page_break(auto=True, margin=15)\n",
    "    pdf.set_font(\"arial_new\", size=12)\n",
    "    for line in content.split(\"\\n\"):\n",
    "        pdf.multi_cell(0, 10, line)\n",
    "    pdf.output(filename)\n",
    "    return filename\n",
    "\n",
    "export_to_pdf(final_report.raw)"
   ]
  },
  {
   "cell_type": "code",
   "execution_count": 22,
   "id": "712d0c4f",
   "metadata": {},
   "outputs": [
    {
     "name": "stdout",
     "output_type": "stream",
     "text": [
      "**Strategic Business Report for the ERW Steel Pipe Industry in Turkey**\n",
      "\n",
      "**Executive Summary:**\n",
      "This strategic business report provides a comprehensive analysis of the Electric Resistance Welded (ERW) steel pipe industry in Turkey, featuring an in-depth SWOT analysis, market insights, and strategic recommendations. Turkey's strategic location, robust manufacturing capabilities, and expanding construction sector position it favorably in the global steel pipe market, despite facing challenges such as high competition, regulatory hurdles, and economic instability.\n",
      "\n",
      "**SWOT Analysis:**\n",
      "- **Strengths:**\n",
      "  - **Strategic Geographic Location:** Turkey's location at the crossroads of Europe, Asia, and the Middle East enhances its distribution capabilities.\n",
      "  - **Growing Construction Sector:** Ongoing infrastructure and construction projects drive demand for ERW pipes.\n",
      "  - **Established Manufacturing Base:** Turkey boasts a strong tradition in heavy industries and steel production.\n",
      "  - **Government Support:** Potential government incentives aimed at boosting manufacturing and exports.\n",
      "\n",
      "- **Weaknesses:**\n",
      "  - **High Competition:** Presence of numerous local and international competitors in the market.\n",
      "  - **Currency Volatility:** Fluctuations in the Turkish Lira influence investment and operational costs.\n",
      "  - **Regulatory Challenges:** Possible bureaucratic and regulatory changes affecting business operations.\n",
      "  - **Energy Costs:** High dependency on imported energy, potentially raising production costs.\n",
      "\n",
      "- **Opportunities:**\n",
      "  - **Expansion into New Markets:** Utilization of trade agreements to access markets in Europe, the Middle East, and Asia.\n",
      "  - **Technological Advancements:** Investment in modern manufacturing technologies to boost efficiency and quality.\n",
      "  - **Sustainability Trends:** Adoption of eco-friendly production methods to align with global sustainability demands.\n",
      "  - **Public-Private Partnerships:** Opportunities for collaboration on government infrastructure projects, ensuring long-term business.\n",
      "\n",
      "- **Threats:**\n",
      "  - **Economic Instability:** Impact of regional geopolitical tensions and economic fluctuations on operations.\n",
      "  - **Import Competition:** Risk of being undercut by cheaper imports, particularly from China.\n",
      "  - **Environmental Regulations:** Increasingly stringent environmental regulations potentially elevating costs.\n",
      "  - **Raw Material Price Volatility:** Price fluctuations of steel and other essential materials affecting profitability.\n",
      "\n",
      "**Market Insight:**\n",
      "The Turkish ERW pipe market is characterized by intense competition with key players like Çınar Boru, Soybaş Steel, and Hera Global Steel leading the industry. The market is segmented into various applications, including construction, oil and gas, and automotive sectors, each with specific demands and growth prospects. The strategic geographic location of Turkey offers significant export opportunities, particularly to Europe and the Middle East. However, the market is also susceptible to global economic trends and trade policies, influencing both supply and pricing dynamics.\n",
      "\n",
      "**Strategic Recommendations:**\n",
      "1. **Enhance Technological Capabilities:** Invest in advanced manufacturing technologies to improve efficiency, reduce costs, and enhance product quality.\n",
      "2. **Market Diversification:** Explore and penetrate new markets leveraging Turkey’s strategic trade agreements, reducing dependency on traditional markets.\n",
      "3. **Focus on Sustainability:** Develop and market eco-friendly manufacturing processes to align with global environmental trends and regulatory demands.\n",
      "4. **Strengthen Supply Chain:** Build robust relationships with local and international suppliers to mitigate risks related to raw material price volatility.\n",
      "5. **Government Collaboration:** Seek opportunities for collaboration in public infrastructure projects and advocate for supportive government policies and incentives.\n",
      "\n",
      "This strategic approach aims to leverage Turkey's inherent strengths while addressing its challenges, positioning Turkish ERW pipe manufacturers for sustainable growth and competitive advantage in the global market.\n"
     ]
    }
   ],
   "source": [
    "print(final_report.raw)"
   ]
  },
  {
   "cell_type": "code",
   "execution_count": 2,
   "id": "fdb0172d",
   "metadata": {},
   "outputs": [
    {
     "ename": "ModuleNotFoundError",
     "evalue": "No module named 'crewai'",
     "output_type": "error",
     "traceback": [
      "\u001b[31m---------------------------------------------------------------------------\u001b[39m",
      "\u001b[31mModuleNotFoundError\u001b[39m                       Traceback (most recent call last)",
      "\u001b[36mCell\u001b[39m\u001b[36m \u001b[39m\u001b[32mIn[2]\u001b[39m\u001b[32m, line 1\u001b[39m\n\u001b[32m----> \u001b[39m\u001b[32m1\u001b[39m \u001b[38;5;28;01mfrom\u001b[39;00m\u001b[38;5;250m \u001b[39m\u001b[34;01mcrewai\u001b[39;00m\u001b[38;5;250m \u001b[39m\u001b[38;5;28;01mimport\u001b[39;00m Agent, Task, Crew\n\u001b[32m      2\u001b[39m \u001b[38;5;28;01mfrom\u001b[39;00m\u001b[38;5;250m \u001b[39m\u001b[34;01mdotenv\u001b[39;00m\u001b[38;5;250m \u001b[39m\u001b[38;5;28;01mimport\u001b[39;00m load_dotenv\n\u001b[32m      3\u001b[39m \u001b[38;5;28;01mimport\u001b[39;00m\u001b[38;5;250m \u001b[39m\u001b[34;01mpandas\u001b[39;00m\u001b[38;5;250m \u001b[39m\u001b[38;5;28;01mas\u001b[39;00m\u001b[38;5;250m \u001b[39m\u001b[34;01mpd\u001b[39;00m\n",
      "\u001b[31mModuleNotFoundError\u001b[39m: No module named 'crewai'"
     ]
    }
   ],
   "source": [
    "from crewai import Agent, Task, Crew\n",
    "from dotenv import load_dotenv\n",
    "import pandas as pd\n",
    "load_dotenv()  # Loads OpenAI API Key"
   ]
  },
  {
   "cell_type": "code",
   "execution_count": 11,
   "id": "db727cef",
   "metadata": {},
   "outputs": [],
   "source": [
    "csv_file = \"data/wine_quality.csv\"\n",
    "\n",
    "df = pd.read_csv(csv_file)\n",
    "if len(df.columns) == 1:\n",
    "\tdf = pd.read_csv(csv_file, sep=\";\")"
   ]
  },
  {
   "cell_type": "code",
   "execution_count": 13,
   "id": "b185df13",
   "metadata": {},
   "outputs": [],
   "source": [
    "df = pd.read_csv('data/train.csv', sep=\";\")"
   ]
  },
  {
   "cell_type": "code",
   "execution_count": 16,
   "id": "1f170112",
   "metadata": {},
   "outputs": [
    {
     "data": {
      "text/html": [
       "<div>\n",
       "<style scoped>\n",
       "    .dataframe tbody tr th:only-of-type {\n",
       "        vertical-align: middle;\n",
       "    }\n",
       "\n",
       "    .dataframe tbody tr th {\n",
       "        vertical-align: top;\n",
       "    }\n",
       "\n",
       "    .dataframe thead th {\n",
       "        text-align: right;\n",
       "    }\n",
       "</style>\n",
       "<table border=\"1\" class=\"dataframe\">\n",
       "  <thead>\n",
       "    <tr style=\"text-align: right;\">\n",
       "      <th></th>\n",
       "      <th>ID,Delivery_person_ID,Delivery_person_Age,Delivery_person_Ratings,Restaurant_latitude,Restaurant_longitude,Delivery_location_latitude,Delivery_location_longitude,Order_Date,Time_Orderd,Time_Order_picked,Weatherconditions,Road_traffic_density,Vehicle_condition,Type_of_order,Type_of_vehicle,multiple_deliveries,Festival,City,Time_taken(min)</th>\n",
       "    </tr>\n",
       "  </thead>\n",
       "  <tbody>\n",
       "    <tr>\n",
       "      <th>0</th>\n",
       "      <td>0x4607 ,INDORES13DEL02 ,37,4.9,22.745049,75.89...</td>\n",
       "    </tr>\n",
       "    <tr>\n",
       "      <th>1</th>\n",
       "      <td>0xb379 ,BANGRES18DEL02 ,34,4.5,12.913041,77.68...</td>\n",
       "    </tr>\n",
       "    <tr>\n",
       "      <th>2</th>\n",
       "      <td>0x5d6d ,BANGRES19DEL01 ,23,4.4,12.914264,77.67...</td>\n",
       "    </tr>\n",
       "    <tr>\n",
       "      <th>3</th>\n",
       "      <td>0x7a6a ,COIMBRES13DEL02 ,38,4.7,11.003669,76.9...</td>\n",
       "    </tr>\n",
       "    <tr>\n",
       "      <th>4</th>\n",
       "      <td>0x70a2 ,CHENRES12DEL01 ,32,4.6,12.972793,80.24...</td>\n",
       "    </tr>\n",
       "    <tr>\n",
       "      <th>...</th>\n",
       "      <td>...</td>\n",
       "    </tr>\n",
       "    <tr>\n",
       "      <th>45588</th>\n",
       "      <td>0x7c09 ,JAPRES04DEL01 ,30,4.8,26.902328,75.794...</td>\n",
       "    </tr>\n",
       "    <tr>\n",
       "      <th>45589</th>\n",
       "      <td>0xd641 ,AGRRES16DEL01 ,21,4.6,0,0,0.07,0.07,16...</td>\n",
       "    </tr>\n",
       "    <tr>\n",
       "      <th>45590</th>\n",
       "      <td>0x4f8d ,CHENRES08DEL03 ,30,4.9,13.022394,80.24...</td>\n",
       "    </tr>\n",
       "    <tr>\n",
       "      <th>45591</th>\n",
       "      <td>0x5eee ,COIMBRES11DEL01 ,20,4.7,11.001753,76.9...</td>\n",
       "    </tr>\n",
       "    <tr>\n",
       "      <th>45592</th>\n",
       "      <td>0x5fb2 ,RANCHIRES09DEL02 ,23,4.9,23.351058,85....</td>\n",
       "    </tr>\n",
       "  </tbody>\n",
       "</table>\n",
       "<p>45593 rows × 1 columns</p>\n",
       "</div>"
      ],
      "text/plain": [
       "      ID,Delivery_person_ID,Delivery_person_Age,Delivery_person_Ratings,Restaurant_latitude,Restaurant_longitude,Delivery_location_latitude,Delivery_location_longitude,Order_Date,Time_Orderd,Time_Order_picked,Weatherconditions,Road_traffic_density,Vehicle_condition,Type_of_order,Type_of_vehicle,multiple_deliveries,Festival,City,Time_taken(min)\n",
       "0      0x4607 ,INDORES13DEL02 ,37,4.9,22.745049,75.89...                                                                                                                                                                                                                                                                                                 \n",
       "1      0xb379 ,BANGRES18DEL02 ,34,4.5,12.913041,77.68...                                                                                                                                                                                                                                                                                                 \n",
       "2      0x5d6d ,BANGRES19DEL01 ,23,4.4,12.914264,77.67...                                                                                                                                                                                                                                                                                                 \n",
       "3      0x7a6a ,COIMBRES13DEL02 ,38,4.7,11.003669,76.9...                                                                                                                                                                                                                                                                                                 \n",
       "4      0x70a2 ,CHENRES12DEL01 ,32,4.6,12.972793,80.24...                                                                                                                                                                                                                                                                                                 \n",
       "...                                                  ...                                                                                                                                                                                                                                                                                                 \n",
       "45588  0x7c09 ,JAPRES04DEL01 ,30,4.8,26.902328,75.794...                                                                                                                                                                                                                                                                                                 \n",
       "45589  0xd641 ,AGRRES16DEL01 ,21,4.6,0,0,0.07,0.07,16...                                                                                                                                                                                                                                                                                                 \n",
       "45590  0x4f8d ,CHENRES08DEL03 ,30,4.9,13.022394,80.24...                                                                                                                                                                                                                                                                                                 \n",
       "45591  0x5eee ,COIMBRES11DEL01 ,20,4.7,11.001753,76.9...                                                                                                                                                                                                                                                                                                 \n",
       "45592  0x5fb2 ,RANCHIRES09DEL02 ,23,4.9,23.351058,85....                                                                                                                                                                                                                                                                                                 \n",
       "\n",
       "[45593 rows x 1 columns]"
      ]
     },
     "execution_count": 16,
     "metadata": {},
     "output_type": "execute_result"
    }
   ],
   "source": []
  },
  {
   "cell_type": "code",
   "execution_count": 19,
   "id": "0560afcc",
   "metadata": {},
   "outputs": [
    {
     "name": "stdout",
     "output_type": "stream",
     "text": [
      "\n",
      "🚀 Running crewAI for a CLASSIFICATION task...\n",
      "\n",
      "\n",
      "✅ Final Output:\n",
      " For the classification task pipeline, the analysis of the dataset reveals distinct classes with clear separations, indicating a structured approach is beneficial. Based on the characteristics of the data, including feature types and the number of classes, the following machine learning models are recommended:\n",
      "\n",
      "1. **Logistic Regression**: Effective for binary classification tasks with linear relationships.\n",
      "2. **Random Forest**: Robust against overfitting, ideal for multiclass classification with complex patterns.\n",
      "3. **Support Vector Machines (SVM)**: Useful for high-dimensional data, effective in cases where classes are not linearly separable.\n",
      "4. **Gradient Boosting Machines (GBM)**: Excels in accuracy and interpretability, especially suitable for large datasets.\n",
      "5. **Neural Networks**: Beneficial for deep learning approaches, particularly with large amounts of data and complex patterns.\n",
      "\n",
      "Recommended approach: Start with Logistic Regression for baseline performance, followed by Random Forest and GBM for improved accuracy. For very complex datasets, consider SVM and Neural Networks, tuning hyperparameters through cross-validation to optimize performance.\n",
      "\n",
      "Selecting these models allows for a comprehensive evaluation of classification performance, leading to higher accuracy and meaningful insights from the data.\n"
     ]
    }
   ],
   "source": [
    "# === Step 1: Load the Dataset ===\n",
    "df = pd.read_csv('data/wine_quality.csv', sep=\";\")\n",
    "target_col = 'quality'\n",
    "\n",
    "# === Step 2: Detect Task Type ===\n",
    "def detect_task_type(df, target):\n",
    "    return 'regression' if pd.api.types.is_numeric_dtype(df[target]) and df[target].nunique() > 10 else 'classification'\n",
    "\n",
    "task_type = detect_task_type(df, target_col)\n",
    "\n",
    "# === Step 3: Generate Summary for Agent ===\n",
    "def generate_summary(df, target, task_type):\n",
    "    summary = []\n",
    "    summary.append(f\"Task type: {task_type.upper()}\")\n",
    "    summary.append(f\"Dataset: {df.shape[0]} rows × {df.shape[1]} columns\")\n",
    "\n",
    "    summary.append(\"\\nFeatures:\")\n",
    "    for col in df.columns:\n",
    "        if col == target:\n",
    "            continue\n",
    "        dtype = df[col].dtype\n",
    "        unique_vals = df[col].nunique()\n",
    "        summary.append(f\" - {col}: {dtype}, {unique_vals} unique values\")\n",
    "\n",
    "    summary.append(f\"\\nTarget column: {target}\")\n",
    "    if task_type == 'classification':\n",
    "        summary.append(f\" - Classes: {df[target].unique().tolist()}\")\n",
    "        summary.append(f\" - Class distribution:\\n{df[target].value_counts(normalize=True).to_string()}\")\n",
    "    else:\n",
    "        summary.append(f\" - Value range: {df[target].min()} to {df[target].max()}\")\n",
    "        summary.append(f\" - Mean: {df[target].mean():.2f}, Std: {df[target].std():.2f}\")\n",
    "\n",
    "    return \"\\n\".join(summary)\n",
    "\n",
    "dataset_summary = generate_summary(df, target_col, task_type)\n",
    "\n",
    "# === Step 4: Define Agents ===\n",
    "\n",
    "data_analyst = Agent(\n",
    "    role=\"Data Analyst Agent\",\n",
    "    goal=\"Analyze dataset structure and modeling considerations\",\n",
    "    backstory=\"A data detective focused on uncovering insights from dataset structure and feature composition.\",\n",
    "    verbose=False\n",
    ")\n",
    "\n",
    "model_selector = Agent(\n",
    "    role=\"Model Selector Agent\",\n",
    "    goal=\"Recommend appropriate ML models for classification or regression\",\n",
    "    backstory=\"An expert in selecting ML models based on dataset characteristics and task type.\",\n",
    "    verbose=False\n",
    ")\n",
    "\n",
    "orchestrator = Agent(\n",
    "    role=\"Orchestrator Agent\",\n",
    "    goal=\"Coordinate analysis and model recommendation based on task type\",\n",
    "    backstory=\"A senior AI architect managing the data insight and ML model selection pipeline.\",\n",
    "    verbose=False\n",
    ")\n",
    "\n",
    "# === Step 5: Define Tasks ===\n",
    "\n",
    "task1 = Task(\n",
    "    description=(\n",
    "        f\"Analyze this dataset for a {task_type.upper()} task:\\n\\n{dataset_summary}\\n\\n\"\n",
    "        \"Summarize the structure, data types, and what challenges or advantages the data may present for modeling.\"\n",
    "    ),\n",
    "    agent=data_analyst,\n",
    "    expected_output=\"A clear analysis of the dataset with modeling considerations.\"\n",
    ")\n",
    "\n",
    "task2 = Task(\n",
    "    description=(\n",
    "        f\"Based on the analysis, recommend suitable ML model(s) for {task_type}. \"\n",
    "        \"Explain why your choices fit this task type and dataset structure.\"\n",
    "    ),\n",
    "    agent=model_selector,\n",
    "    context=[task1],\n",
    "    expected_output=\"1-2 recommended models with clear justification for the task type.\"\n",
    ")\n",
    "\n",
    "task3 = Task(\n",
    "    description=(\n",
    "        f\"Coordinate the entire {task_type.upper()} task pipeline, from analysis to model recommendation.\"\n",
    "        \"Summarize the findings and the most suitable ML model(s).\"\n",
    "    ),\n",
    "    agent=orchestrator,\n",
    "    context=[task1, task2],\n",
    "    expected_output=\"Final summary with a very brief reasoning and model recommendations. Not include your analysis.\"\n",
    ")\n",
    "\n",
    "# === Step 6: Run Crew ===\n",
    "\n",
    "crew = Crew(\n",
    "    agents=[orchestrator, data_analyst, model_selector],\n",
    "    tasks=[task3],\n",
    "    verbose=False\n",
    ")\n",
    "\n",
    "print(f\"\\n🚀 Running crewAI for a {task_type.upper()} task...\\n\")\n",
    "final_output = crew.kickoff()\n",
    "print(\"\\n✅ Final Output:\\n\", final_output)"
   ]
  },
  {
   "cell_type": "code",
   "execution_count": null,
   "id": "0df2c0d9",
   "metadata": {},
   "outputs": [],
   "source": [
    "import os\n",
    "import google.generativeai as genai\n",
    "from dotenv import load_dotenv\n",
    "\n",
    "# Load your API key from the .env file\n",
    "load_dotenv()\n",
    "genai.configure(api_key=os.getenv(\"GOOGLE_API_KEY\"))\n",
    "\n",
    "# Use the Gemini model\n",
    "model = genai.GenerativeModel(\"gemini-pro\")\n",
    "\n",
    "# Create a chat session (optional)\n",
    "chat = model.start_chat()\n",
    "\n",
    "# Send a prompt\n",
    "response = chat.send_message(\"Explain quantum computing in simple terms.\")\n",
    "\n",
    "# Print the response\n",
    "print(response.text)"
   ]
  },
  {
   "cell_type": "code",
   "execution_count": null,
   "id": "a09a807d",
   "metadata": {},
   "outputs": [
    {
     "ename": "TypeError",
     "evalue": "'Models' object is not callable",
     "output_type": "error",
     "traceback": [
      "\u001b[31m---------------------------------------------------------------------------\u001b[39m",
      "\u001b[31mTypeError\u001b[39m                                 Traceback (most recent call last)",
      "\u001b[36mCell\u001b[39m\u001b[36m \u001b[39m\u001b[32mIn[6]\u001b[39m\u001b[32m, line 5\u001b[39m\n\u001b[32m      2\u001b[39m \u001b[38;5;28;01mfrom\u001b[39;00m\u001b[38;5;250m \u001b[39m\u001b[34;01mgoogle\u001b[39;00m\u001b[38;5;250m \u001b[39m\u001b[38;5;28;01mimport\u001b[39;00m genai\n\u001b[32m      4\u001b[39m client = genai.Client(api_key=os.getenv(\u001b[33m\"\u001b[39m\u001b[33mGOOGLE_API_KEY\u001b[39m\u001b[33m\"\u001b[39m))\n\u001b[32m----> \u001b[39m\u001b[32m5\u001b[39m model = \u001b[43mclient\u001b[49m\u001b[43m.\u001b[49m\u001b[43mmodels\u001b[49m\u001b[43m(\u001b[49m\u001b[33;43m\"\u001b[39;49m\u001b[33;43mgemini-2.0-flash\u001b[39;49m\u001b[33;43m\"\u001b[39;49m\u001b[43m)\u001b[49m\n",
      "\u001b[31mTypeError\u001b[39m: 'Models' object is not callable"
     ]
    }
   ],
   "source": [
    "import os\n",
    "from google import genai\n",
    "\n",
    "client = genai.Client(api_key=os.getenv(\"GOOGLE_API_KEY\"))\n",
    "model = client.models(\"gemini-2.0-flash\")\n",
    "\n",
    "response = client.models.generate_content(\n",
    "    model=\"gemini-2.0-flash\", contents=\"What are you?\"\n",
    ")\n",
    "print(response.text)"
   ]
  },
  {
   "cell_type": "code",
   "execution_count": null,
   "id": "763c3331",
   "metadata": {},
   "outputs": [],
   "source": [
    "def get_gemini_response(prompt):\n",
    "    model = genai.GenerativeModel(\"gemini-pro\")\n",
    "    response = model.generate_content(prompt=prompt)\n",
    "    return response.text"
   ]
  },
  {
   "cell_type": "code",
   "execution_count": null,
   "id": "7b2d49b7",
   "metadata": {},
   "outputs": [
    {
     "name": "stdout",
     "output_type": "stream",
     "text": [
      "\n",
      "===== AutoAdvisor Output =====\n",
      "1. Market Research: Our market research agent has identified a growing demand for eco-friendly products in the consumer market. The target demographic is primarily millennials and Gen Z, who are increasingly conscious about the environmental impact of their consumption habits. The market is expected to grow at a CAGR of 8.5% over the next five years.\n",
      "\n",
      "2. Strategy: Based on the market research, our strategy agent suggests focusing on developing eco-friendly products that cater to the needs of millennials and Gen Z. The startup should leverage digital marketing channels to reach out to this audience, as they are highly active online. Partnerships with influencers and thought leaders in the eco-friendly space can also help in building brand credibility.\n",
      "\n",
      "3. AI Value: Our AI agent suggests using AI to enhance the customer experience and streamline operations. AI can be used to personalize product recommendations based on customer preferences, thus increasing sales. It can also be used to automate routine tasks, freeing up time for the team to focus on strategic initiatives.\n",
      "\n",
      "4. Copywriting Pitch: \"Join us in making the world a better place, one product at a time. Our eco-friendly products are designed with you and the planet in mind. Together, we can make a difference.\"\n",
      "\n",
      "In conclusion, the startup strategy involves targeting the growing eco-friendly market with a range of products tailored to the preferences of millennials and Gen Z. The use of AI will enhance the customer experience and improve operational efficiency. The brand will be positioned as a champion for the environment, with a strong emphasis on community and collective action.\n"
     ]
    }
   ],
   "source": [
    "from crewai import Agent, Task, Crew\n",
    "from langchain_openai import ChatOpenAI\n",
    "from google import genai\n",
    "from dotenv import load_dotenv\n",
    "load_dotenv()  # Loads OpenAI API Key\n",
    "\n",
    "llm = ChatOpenAI(model=\"gpt-4\", temperature=0.3)\n",
    "\n",
    "# Set up the LLM (Gemini)\n",
    "#llm = ChatGoogleGenerativeAI(model=\"gemini-pro\", temperature=0.3)\n",
    "\n",
    "# Define agents\n",
    "market_analyst = Agent(\n",
    "    role=\"Market Analyst Agent\",\n",
    "    goal=\"Research the market and gather competitor insights\",\n",
    "    backstory=\"An expert in market intelligence and competitive research.\",\n",
    "    llm=llm,\n",
    "    verbose=False,\n",
    ")\n",
    "\n",
    "product_strategist = Agent(\n",
    "    role=\"Product Strategist Agent\",\n",
    "    goal=\"Recommend product features, pricing, and a unique value proposition\",\n",
    "    backstory=\"A product manager with deep knowledge of startup success factors.\",\n",
    "    llm=llm,\n",
    "    verbose=False,\n",
    ")\n",
    "\n",
    "aitrends_analyst = Agent(\n",
    "    role=\"AI Trends Analyst Agent\",\n",
    "    goal=\"Suggest ways to integrate AI into the product idea\",\n",
    "    backstory=\"An AI solutions architect who maps cutting-edge tech to business needs.\",\n",
    "    llm=llm,\n",
    "    verbose=False,\n",
    ")\n",
    "\n",
    "content_creator = Agent(\n",
    "    role=\"Content Creator Agent\",\n",
    "    goal=\"Generate a landing page headline and Twitter-style pitch\",\n",
    "    backstory=\"A witty and creative copywriter turned prompt engineer.\",\n",
    "    llm=llm,\n",
    "    verbose=False,\n",
    ")\n",
    "\n",
    "orchestrator = Agent(\n",
    "    role=\"Orchestrator Agent\",\n",
    "    goal=\"Coordinate all agents to build a startup strategy based on a business idea\",\n",
    "    backstory=\"A senior startup advisor overseeing AI-driven strategic planning.\",\n",
    "    llm=llm,\n",
    "    verbose=False,\n",
    ")\n",
    "\n",
    "# Business idea input\n",
    "idea = \"AI-powered gym and nutrition coach app for busy professionals\"\n",
    "\n",
    "# Define tasks\n",
    "market_task = Task(\n",
    "    description=f\"Analyze the market for this idea: '{idea}'. Identify top 3 competitors and market opportunities.\",\n",
    "    agent=market_analyst,\n",
    "    expected_output=\"List of top 3 competitors, market gaps, and potential opportunities.\"\n",
    ")\n",
    "\n",
    "strategy_task = Task(\n",
    "    description=f\"Based on the idea '{idea}', recommend product features, pricing, and unique value.\",\n",
    "    agent=product_strategist,\n",
    "    context=[market_task],\n",
    "    expected_output=\"Suggested features, price point, and value proposition for the product.\"\n",
    ")\n",
    "\n",
    "ai_task = Task(\n",
    "    description=f\"Suggest how the latest AI trends (e.g., LLMs, personalization, computer vision) could enhance the product idea '{idea}'.\",\n",
    "    agent=aitrends_analyst,\n",
    "    expected_output=\"AI features or enhancements that would add value to the product.\"\n",
    ")\n",
    "\n",
    "content_task = Task(\n",
    "    description=f\"Write a landing page headline and a tweet-length pitch for the startup idea '{idea}'.\",\n",
    "    agent=content_creator,\n",
    "    context=[strategy_task, ai_task],\n",
    "    expected_output=\"A catchy landing page headline and one tweet-sized pitch for the product.\"\n",
    ")\n",
    "\n",
    "orchestration = Task(\n",
    "    description=\"Summarize the findings from all agents and output a cohesive startup strategy.\",\n",
    "    agent=orchestrator,\n",
    "    context=[market_task, strategy_task, ai_task, content_task],\n",
    "    expected_output=\"Full business summary including market research, strategy, AI value, and copywriting pitch.\"\n",
    ")\n",
    "\n",
    "# Assemble the crew\n",
    "crew = Crew(\n",
    "    agents=[market_analyst, product_strategist, aitrends_analyst, content_creator, orchestrator],\n",
    "    tasks=[orchestration],\n",
    "    verbose=False,\n",
    ")\n",
    "\n",
    "# Run crew\n",
    "if __name__ == '__main__':\n",
    "    result = crew.kickoff()\n",
    "    print(\"\\n===== AutoAdvisor Output =====\")\n",
    "    print(result)"
   ]
  },
  {
   "cell_type": "code",
   "execution_count": null,
   "id": "039d9076",
   "metadata": {},
   "outputs": [],
   "source": [
    "import serpapi\n",
    "import os\n",
    "\n",
    "# Load API key from .env file\n",
    "from dotenv import load_dotenv\n",
    "load_dotenv()\n",
    "\n",
    "# SerpAPI search function\n",
    "def web_search(query):\n",
    "\tsearch = serpapi.search({\n",
    "\t\t\"q\": query,\n",
    "\t\t\"api_key\": os.getenv(\"SERPAPI_KEY\")\n",
    "\t})\n",
    "\treturn search[\"organic_results\"]\n",
    "\t\n",
    "idea = \"AI-powered gym and nutrition coach app for busy professionals\"\n",
    "\n",
    "# Perform Web Search\n",
    "search_results = web_search(f\"{idea} competitors\")\n",
    "for result in search_results[:3]:  # Show top 3 results\n",
    "\tprint(f\"- {result['title']}: {result['link']}\")"
   ]
  },
  {
   "cell_type": "code",
   "execution_count": 14,
   "id": "4d9e4e43",
   "metadata": {},
   "outputs": [
    {
     "name": "stdout",
     "output_type": "stream",
     "text": [
      "- The 12 Best AI Fitness Apps (Free & Paid) in 2025: https://digitalhealth.folio3.com/blog/best-ai-fitness-apps-free-and-paid/\n",
      "- 10 Best AI Workout Apps to Get in Shape Faster (Free & Paid): https://dr-muscle.com/best-ai-workout-app/\n",
      "- The Best Personal Training Apps of 2025: https://www.garagegymreviews.com/best-personal-training-apps\n"
     ]
    }
   ],
   "source": [
    "for result in search_results[\"organic_results\"][:3]:  # Show top 3 results\n",
    "\tprint(f\"- {result['title']}: {result['link']}\")"
   ]
  },
  {
   "cell_type": "code",
   "execution_count": 13,
   "id": "3241adac",
   "metadata": {},
   "outputs": [
    {
     "data": {
      "text/plain": [
       "[{'position': 1,\n",
       "  'title': 'The 12 Best AI Fitness Apps (Free & Paid) in 2025',\n",
       "  'link': 'https://digitalhealth.folio3.com/blog/best-ai-fitness-apps-free-and-paid/',\n",
       "  'redirect_link': 'https://www.google.com/url?sa=t&source=web&rct=j&opi=89978449&url=https://digitalhealth.folio3.com/blog/best-ai-fitness-apps-free-and-paid/&ved=2ahUKEwiy5tXzre6MAxWyTDABHUXKK6YQFnoECCIQAQ',\n",
       "  'displayed_link': 'https://digitalhealth.folio3.com › blog › best-ai-fitness-ap...',\n",
       "  'favicon': 'https://serpapi.com/searches/6808f842b762fa436350b891/images/15492300e38063b84e8d6f4193a9627544d1591ac3cefd443a5eff9be913cb8d.png',\n",
       "  'date': 'Feb 26, 2025',\n",
       "  'snippet': 'The list of best AI fitness apps includes Peloton, Freelitics, Fitbod, Dr. Muscle, Glo, Noom, Zombies, Run!, etc.',\n",
       "  'snippet_highlighted_words': ['Peloton'],\n",
       "  'source': 'Folio3'},\n",
       " {'position': 2,\n",
       "  'title': '10 Best AI Workout Apps to Get in Shape Faster (Free & Paid)',\n",
       "  'link': 'https://dr-muscle.com/best-ai-workout-app/',\n",
       "  'redirect_link': 'https://www.google.com/url?sa=t&source=web&rct=j&opi=89978449&url=https://dr-muscle.com/best-ai-workout-app/&ved=2ahUKEwiy5tXzre6MAxWyTDABHUXKK6YQFnoECFIQAQ',\n",
       "  'displayed_link': 'https://dr-muscle.com › best-ai-workout-app',\n",
       "  'favicon': 'https://serpapi.com/searches/6808f842b762fa436350b891/images/15492300e38063b84e8d6f4193a96275bb5976b973dc81b3557e45a24487c9e0.png',\n",
       "  'snippet': 'AI coaching: Freeletics AI provides real-time feedback and guidance during workouts to help you maintain proper form and push your limits.',\n",
       "  'snippet_highlighted_words': ['Freeletics AI'],\n",
       "  'missing': ['busy'],\n",
       "  'must_include': {'word': 'busy',\n",
       "   'link': 'https://www.google.com/search?sca_esv=a2fccd0347a25b28&q=AI-powered+gym+and+nutrition+coach+app+for+%22busy%22+professionals+competitors&sa=X&ved=2ahUKEwiy5tXzre6MAxWyTDABHUXKK6YQ5t4CegQIVRAB'},\n",
       "  'source': 'Dr. Muscle'},\n",
       " {'position': 3,\n",
       "  'title': 'The Best Personal Training Apps of 2025',\n",
       "  'link': 'https://www.garagegymreviews.com/best-personal-training-apps',\n",
       "  'redirect_link': 'https://www.google.com/url?sa=t&source=web&rct=j&opi=89978449&url=https://www.garagegymreviews.com/best-personal-training-apps&ved=2ahUKEwiy5tXzre6MAxWyTDABHUXKK6YQFnoECCEQAQ',\n",
       "  'displayed_link': 'https://www.garagegymreviews.com › Roundup',\n",
       "  'favicon': 'https://serpapi.com/searches/6808f842b762fa436350b891/images/15492300e38063b84e8d6f4193a9627510426427b853f7312f595bb0522e186b.png',\n",
       "  'date': 'Nov 8, 2024',\n",
       "  'snippet': \"That's the fastest way to reach your goals, sure, but apps like Aaptiv, Peloton, and iFIT are also great options with elements of customization.\",\n",
       "  'snippet_highlighted_words': ['apps'],\n",
       "  'source': 'Garage Gym Reviews'},\n",
       " {'position': 4,\n",
       "  'title': '15 AI Tools for Personal Trainers: Boost Your Fitness ...',\n",
       "  'link': 'https://www.fitbudd.com/post/15-ai-tools-for-personal-trainers-boost-your-fitness-business-with-cutting-edge-technology',\n",
       "  'redirect_link': 'https://www.google.com/url?sa=t&source=web&rct=j&opi=89978449&url=https://www.fitbudd.com/post/15-ai-tools-for-personal-trainers-boost-your-fitness-business-with-cutting-edge-technology&ved=2ahUKEwiy5tXzre6MAxWyTDABHUXKK6YQFnoECCUQAQ',\n",
       "  'displayed_link': 'https://www.fitbudd.com › post › 15-ai-tools-for-perso...',\n",
       "  'favicon': 'https://serpapi.com/searches/6808f842b762fa436350b891/images/15492300e38063b84e8d6f4193a9627579f03c33cfe5e3e3f0919d12fbe9655e.png',\n",
       "  'snippet': 'MyFitnessPal is a well-known tool in the fitness industry, offering a free AI-powered personal trainer experience in the realm of nutrition. The platform ...',\n",
       "  'snippet_highlighted_words': ['MyFitnessPal'],\n",
       "  'missing': ['busy'],\n",
       "  'must_include': {'word': 'busy',\n",
       "   'link': 'https://www.google.com/search?sca_esv=a2fccd0347a25b28&q=AI-powered+gym+and+nutrition+coach+app+for+%22busy%22+professionals+competitors&sa=X&ved=2ahUKEwiy5tXzre6MAxWyTDABHUXKK6YQ5t4CegQINhAB'},\n",
       "  'source': 'Fitbudd'},\n",
       " {'position': 5,\n",
       "  'title': 'Best Zing AI Fitness Coach Alternatives (2025)',\n",
       "  'link': 'https://www.producthunt.com/products/zing-ai-fitness-coach/alternatives',\n",
       "  'redirect_link': 'https://www.google.com/url?sa=t&source=web&rct=j&opi=89978449&url=https://www.producthunt.com/products/zing-ai-fitness-coach/alternatives&ved=2ahUKEwiy5tXzre6MAxWyTDABHUXKK6YQFnoECB8QAQ',\n",
       "  'displayed_link': 'https://www.producthunt.com › products › alternatives',\n",
       "  'favicon': 'https://serpapi.com/searches/6808f842b762fa436350b891/images/15492300e38063b84e8d6f4193a962757d27ef84037870ae2c7e0dcdac0dff1a.png',\n",
       "  'snippet': \"The best alternatives to Zing AI Fitness Coach are Spur.fit, Boost, and FormFusion. If these 3 options don't work for you, we've listed over 20 alternatives ...\",\n",
       "  'snippet_highlighted_words': ['Spur.fit, Boost, and FormFusion'],\n",
       "  'source': 'Product Hunt'},\n",
       " {'position': 6,\n",
       "  'title': 'WorkoutPro - Alternatives and Competitors',\n",
       "  'link': 'https://www.eliteai.tools/tool/workoutpro/alternatives',\n",
       "  'redirect_link': 'https://www.google.com/url?sa=t&source=web&rct=j&opi=89978449&url=https://www.eliteai.tools/tool/workoutpro/alternatives&ved=2ahUKEwiy5tXzre6MAxWyTDABHUXKK6YQFnoECCAQAQ',\n",
       "  'displayed_link': 'https://www.eliteai.tools › tool › workoutpro › alternatives',\n",
       "  'favicon': 'https://serpapi.com/searches/6808f842b762fa436350b891/images/15492300e38063b84e8d6f4193a96275ea9cf92acbdd5a58a19ba62dcbdd8a70.png',\n",
       "  'snippet': 'Spur.fit is an AI-powered coaching platform that helps fitness professionals manage clients, create personalized workout and nutrition plans, and scale their ...',\n",
       "  'snippet_highlighted_words': ['AI',\n",
       "   'powered coaching',\n",
       "   'fitness professionals',\n",
       "   'nutrition'],\n",
       "  'source': 'Elite AI Tools'},\n",
       " {'position': 7,\n",
       "  'title': 'Top 9 AI Tools For Personal Trainers',\n",
       "  'link': 'https://truecoach.co/blog/top-9-ai-tools-that-revolutionize-personal-training/',\n",
       "  'redirect_link': 'https://www.google.com/url?sa=t&source=web&rct=j&opi=89978449&url=https://truecoach.co/blog/top-9-ai-tools-that-revolutionize-personal-training/&ved=2ahUKEwiy5tXzre6MAxWyTDABHUXKK6YQFnoECCYQAQ',\n",
       "  'displayed_link': 'https://truecoach.co › Blog',\n",
       "  'favicon': 'https://serpapi.com/searches/6808f842b762fa436350b891/images/15492300e38063b84e8d6f4193a96275632be8778d0fc9cace147d0d02def508.png',\n",
       "  'date': 'Feb 11, 2025',\n",
       "  'snippet': 'AI-powered platforms can help with everything from workout programming and nutrition planning to client management and marketing automation.',\n",
       "  'snippet_highlighted_words': ['AI', 'powered', 'nutrition'],\n",
       "  'sitelinks': {'inline': [{'title': 'Introduction',\n",
       "     'link': 'https://truecoach.co/blog/top-9-ai-tools-that-revolutionize-personal-training/#:~:text=Introduction,-Artificial%20Intelligence%20%28AI%29'},\n",
       "    {'title': '1. Ai-Enabled Virtual...',\n",
       "     'link': 'https://truecoach.co/blog/top-9-ai-tools-that-revolutionize-personal-training/#:~:text=1.%20AI%2DEnabled%20Virtual%20Assistants,-AI'},\n",
       "    {'title': '2. Ai-Enhanced Activity...',\n",
       "     'link': 'https://truecoach.co/blog/top-9-ai-tools-that-revolutionize-personal-training/#:~:text=2.%20AI%2DEnhanced%20Activity%20Trackers,-AI%2Dpowered%20fitness%20wearables'}]},\n",
       "  'missing': ['busy'],\n",
       "  'must_include': {'word': 'busy',\n",
       "   'link': 'https://www.google.com/search?sca_esv=a2fccd0347a25b28&q=AI-powered+gym+and+nutrition+coach+app+for+%22busy%22+professionals+competitors&sa=X&ved=2ahUKEwiy5tXzre6MAxWyTDABHUXKK6YQ5t4CegQIOBAB'},\n",
       "  'source': 'TrueCoach'},\n",
       " {'position': 8,\n",
       "  'title': 'The 9 best fitness apps of 2025',\n",
       "  'link': 'https://zapier.com/blog/best-fitness-tracking-apps/',\n",
       "  'redirect_link': 'https://www.google.com/url?sa=t&source=web&rct=j&opi=89978449&url=https://zapier.com/blog/best-fitness-tracking-apps/&ved=2ahUKEwiy5tXzre6MAxWyTDABHUXKK6YQFnoECCQQAQ',\n",
       "  'displayed_link': 'https://zapier.com › App picks › Best apps',\n",
       "  'favicon': 'https://serpapi.com/searches/6808f842b762fa436350b891/images/15492300e38063b84e8d6f4193a962758b2eb96026361c723f404bae34a1f673.png',\n",
       "  'date': 'Jan 31, 2025',\n",
       "  'snippet': 'Best fitness app for busy people. Hevy (iOS, Android). Hevy, our pick for the best fitness app for busy people. Hevy pros: Workout routines ...',\n",
       "  'snippet_highlighted_words': ['Hevy'],\n",
       "  'sitelinks': {'inline': [{'title': 'Strava (ios, Android)',\n",
       "     'link': 'https://zapier.com/blog/best-fitness-tracking-apps/#:~:text=Strava%20%28iOS%2C%20Android%29'},\n",
       "    {'title': 'Best Fitness Tracking App...',\n",
       "     'link': 'https://zapier.com/blog/best-fitness-tracking-apps/#:~:text=Best%20fitness%20tracking%20app%20for%20Apple%20users'},\n",
       "    {'title': 'Best Fitness Tracker App For...',\n",
       "     'link': 'https://zapier.com/blog/best-fitness-tracking-apps/#:~:text=Best%20fitness%20tracker%20app%20for%20getting%20started'}]},\n",
       "  'source': 'Zapier'}]"
      ]
     },
     "execution_count": 13,
     "metadata": {},
     "output_type": "execute_result"
    }
   ],
   "source": [
    "search_results[\"organic_results\"]"
   ]
  },
  {
   "cell_type": "code",
   "execution_count": null,
   "id": "71b26633",
   "metadata": {},
   "outputs": [],
   "source": [
    "for result in search_results[:3]:  # Show top 3 results\n",
    "\tprint(f\"- {result['title']}: {result['link']}\")"
   ]
  },
  {
   "cell_type": "code",
   "execution_count": 10,
   "id": "3d9cefcc",
   "metadata": {},
   "outputs": [
    {
     "name": "stdout",
     "output_type": "stream",
     "text": [
      "🚀 Starting AutoAdvisor (Web Search + LLM)…\n",
      "\n",
      "\n",
      "✅ Final Recommendation:\n",
      " **Strategic Insights and Competitor Summary**\n",
      "\n",
      "1. **Rocky - Platform for Personal Development**: Rocky.ai focuses on personal development through a conversational AI interface. It emphasizes self-reflection and coaching on leadership skills, helping users to improve their decision-making and daily productivity. However, its primary focus seems to be on personal growth rather than holistic wellness which encompasses physical health, mental health, and social well-being.\n",
      "\n",
      "2. **Ollie AI - AI-Powered Employee Support for Global Enterprises**: Ollie.health offers AI-powered support specifically tailored for employee wellness in global enterprises. It supports mental health through proactive outreach and personalized support but leans heavily on mental wellness rather than a comprehensive wellness approach that includes physical health and lifestyle management.\n",
      "\n",
      "3. **ONVY**: ONVY.health takes a holistic approach to wellness with a focus on both mental and physical health, but it caters more broadly to health and wellness without a specific focus on the unique challenges faced by remote workers, such as isolation, sedentary lifestyle, and work-life balance.\n",
      "\n",
      "**Gap in the Market**:\n",
      "- **Specific Focus on Remote Workers**: None of the platforms are specifically tailored to address the full spectrum of challenges faced by remote workers, such as physical inactivity, poor ergonomic practices, mental stress from isolation, and difficulties in maintaining work-life balance. \n",
      "- **Integration with Work Tools**: There is an opportunity to integrate wellness coaching directly into tools commonly used by remote workers (e.g., Slack, Microsoft Teams) to seamlessly blend wellness practices with their work routines.\n",
      "\n",
      "**Go-to-Market Strategy for an AI-powered Wellness Coaching Platform for Remote Workers**:\n",
      "- **Product Differentiation**: The platform should offer a comprehensive wellness solution that addresses physical, mental, and social health, specifically designed for remote workers. Features could include ergonomic alerts, mental breaks, physical exercise reminders, and social interaction prompts.\n",
      "- **Integration and Partnerships**: Partner with leading remote work tool providers to integrate the wellness coaching directly into platforms like Slack, Zoom, or Microsoft Teams. This ensures that wellness becomes a natural part of the remote worker's day without requiring them to switch contexts.\n",
      "- **Data Privacy and Security**: Emphasize the security and privacy of user data, a critical concern for enterprises adopting new tools for their employees. Compliance with international standards (such as GDPR and HIPAA where applicable) should be highlighted.\n",
      "- **Marketing and Launch**: Utilize a direct B2B sales approach targeting HR departments of companies with significant remote workforces. Launch a pilot program offering initial free usage that transitions into a tiered pricing model based on the size of the company and specific feature usage.\n",
      "- **Feedback and Agile Improvement**: Implement a robust feedback system to continuously evolve the product based on user and client feedback, ensuring the platform remains aligned with user needs and workplace trends.\n",
      "\n",
      "By addressing these strategic areas, the AI-powered wellness coaching platform can effectively differentiate itself in the market and provide significant value to remote workers and their employers.\n"
     ]
    }
   ],
   "source": [
    "import os\n",
    "from dotenv import load_dotenv\n",
    "from crewai import Agent, Task, Crew\n",
    "import serpapi\n",
    "from langchain.chat_models import ChatOpenAI\n",
    "\n",
    "# Load env\n",
    "load_dotenv()\n",
    "serpapi_key = os.getenv(\"SERPAPI_KEY\")\n",
    "openai_api_key = os.getenv(\"OPENAI_API_KEY\")\n",
    "\n",
    "# LangChain OpenAI LLM\n",
    "llm = ChatOpenAI(\n",
    "    openai_api_key=openai_api_key,\n",
    "    model=\"gpt-4-turbo\",\n",
    "    temperature=0.7\n",
    ")\n",
    "\n",
    "# Web search utility function\n",
    "def perform_web_search(query: str) -> str:\n",
    "    results = serpapi.search({\n",
    "        \"q\": query,\n",
    "        \"api_key\": serpapi_key,\n",
    "    })\n",
    "    top = results.get(\"organic_results\", [])[:3]\n",
    "    return \"\\n\".join([f\"{r['title']}: {r['link']}\" for r in top])\n",
    "\n",
    "# --- AGENT using OpenAI ---\n",
    "market_analyst = Agent(\n",
    "    role=\"Market Analyst\",\n",
    "    goal=\"Analyze the competition and provide strategic insights\",\n",
    "    backstory=\"Expert in understanding market dynamics and competition.\",\n",
    "    llm=llm,\n",
    "    verbose=False\n",
    ")\n",
    "\n",
    "# --- INPUT IDEA ---\n",
    "user_idea = \"AI-powered wellness coaching platform for remote workers\"\n",
    "\n",
    "# --- MANUAL Web Search Step ---\n",
    "web_research_summary = perform_web_search(user_idea)\n",
    "\n",
    "# --- TASK: Market Analysis based on web search ---\n",
    "market_analysis_task = Task(\n",
    "    description=f\"\"\"Using the following research:\n",
    "\n",
    "{web_research_summary}\n",
    "\n",
    "Analyze the top competitors, identify gaps in the market, and recommend a go-to-market strategy for the idea:\n",
    "'{user_idea}'.\"\"\",\n",
    "    agent=market_analyst,\n",
    "    expected_output='''\n",
    "    Strategic insights, competitor summary, and suggested positioning with supporting statistics.\n",
    "    Share your final thoughts and reasonings briefly.\n",
    "    '''\n",
    ")\n",
    "\n",
    "# --- CREW Setup ---\n",
    "crew = Crew(\n",
    "    agents=[market_analyst],\n",
    "    tasks=[market_analysis_task],\n",
    "    verbose=False\n",
    ")\n",
    "\n",
    "# --- RUN ---\n",
    "if __name__ == \"__main__\":\n",
    "    print(\"🚀 Starting AutoAdvisor (Web Search + LLM)…\\n\")\n",
    "    final_output = crew.kickoff()\n",
    "    print(\"\\n✅ Final Recommendation:\\n\", final_output)"
   ]
  }
 ],
 "metadata": {
  "kernelspec": {
   "display_name": ".venv",
   "language": "python",
   "name": "python3"
  },
  "language_info": {
   "codemirror_mode": {
    "name": "ipython",
    "version": 3
   },
   "file_extension": ".py",
   "mimetype": "text/x-python",
   "name": "python",
   "nbconvert_exporter": "python",
   "pygments_lexer": "ipython3",
   "version": "3.12.10"
  }
 },
 "nbformat": 4,
 "nbformat_minor": 5
}
